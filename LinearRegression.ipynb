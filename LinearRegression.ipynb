{
 "cells": [
  {
   "cell_type": "code",
   "execution_count": 5,
   "metadata": {},
   "outputs": [
    {
     "data": {
      "image/png": "[encoded data removed]",
      "text/plain": [
       "<Figure size 432x288 with 1 Axes>"
      ]
     },
     "metadata": {
      "needs_background": "light"
     },
     "output_type": "display_data"
    }
   ],
   "source": [
    "#2020-03-17\n",
    "from matplotlib import pyplot as plt\n",
    "\n",
    "x = [1, 2, 4]\n",
    "y = [2, 1, 3]\n",
    "\n",
    "for i in range(len(x)):\n",
    "    plt.text(x[i], y[i], (x[i],y[i]))\n",
    "    \n",
    "plt.axis([0, 10, 0, 10])\n",
    "plt.grid(True)\n",
    "plt.xlabel(\"x\")\n",
    "plt.ylabel(\"y\")\n",
    "plt.scatter(x,y)\n",
    "plt.show()"
   ]
  },
  {
   "cell_type": "code",
   "execution_count": 6,
   "metadata": {},
   "outputs": [
    {
     "name": "stdout",
     "output_type": "stream",
     "text": [
      "0.4285714285714285\n",
      "1.0\n"
     ]
    }
   ],
   "source": [
    "sum_x = 0\n",
    "sum_y = 0\n",
    "sum_xx = 0\n",
    "sum_xy = 0\n",
    "for i in range(len(x)):\n",
    "    sum_x = sum_x + x[i]\n",
    "    sum_xx = sum_xx + x[i]*x[i]\n",
    "    sum_y = sum_y + y[i]\n",
    "    sum_xy = sum_xy + x[i]*y[i]\n",
    "avg_x = sum_x/len(x)\n",
    "avg_y = sum_y/len(y)\n",
    "avg_xx = sum_xx/len(x)\n",
    "avg_xy = sum_xy/len(x)\n",
    "\n",
    "m = (avg_x*avg_y - avg_xy)/(avg_x*avg_x - avg_xx)\n",
    "b = avg_y - m*avg_x\n",
    "\n",
    "print(m)\n",
    "print(b)\n",
    "\n",
    "plt.show()"
   ]
  },
  {
   "cell_type": "code",
   "execution_count": 7,
   "metadata": {},
   "outputs": [
    {
     "name": "stdout",
     "output_type": "stream",
     "text": [
      "[0.42857143]\n",
      "0.9999999999999998\n"
     ]
    }
   ],
   "source": [
    "from __future__ import division\n",
    "from sklearn.linear_model import LinearRegression\n",
    "\n",
    "x = [[1], [2], [4]]\n",
    "y = [2, 1, 3]\n",
    "\n",
    "regressor = LinearRegression()\n",
    "regressor.fit(x,y)\n",
    "\n",
    "print(regressor.coef_)\n",
    "print(regressor.intercept_)"
   ]
  },
  {
   "cell_type": "code",
   "execution_count": null,
   "metadata": {},
   "outputs": [],
   "source": []
  }
 ],
 "metadata": {
  "kernelspec": {
   "display_name": "Python 3",
   "language": "python",
   "name": "python3"
  },
  "language_info": {
   "codemirror_mode": {
    "name": "ipython",
    "version": 3
   },
   "file_extension": ".py",
   "mimetype": "text/x-python",
   "name": "python",
   "nbconvert_exporter": "python",
   "pygments_lexer": "ipython3",
   "version": "3.7.3"
  }
 },
 "nbformat": 4,
 "nbformat_minor": 2
}
